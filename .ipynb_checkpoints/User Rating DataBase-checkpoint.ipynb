{
 "cells": [
  {
   "cell_type": "code",
   "execution_count": 1,
   "metadata": {},
   "outputs": [],
   "source": [
    "#!/usr/bin/python\n",
    "import os, sys\n",
    "import pandas as pd\n",
    "import librosa\n",
    "import random"
   ]
  },
  {
   "cell_type": "code",
   "execution_count": 2,
   "metadata": {},
   "outputs": [
    {
     "name": "stdout",
     "output_type": "stream",
     "text": [
      "32Stitches - Olympus [NCS Release].wav\n",
      "3rd Prototype & Emdi - House [NCS Release].wav\n",
      "3rd Prototype - I'm Fine [NCS Release].wav\n",
      "Aero Chord & Anuka - Incomplete (Lyric Video) [NCS Release].wav\n",
      "Alex Skrindo & Miza - Thinkin' [NCS Release]_2.wav\n",
      "Alva Gracia - Emotions Like [NCS Release].wav\n",
      "Andromedik - SHE [NCS Release].wav\n",
      "Anna Yvette - Running Out of Time [NCS Release].wav\n",
      "Arcien - Elevate [NCS Release].wav\n",
      "Ascence - Without You [NCS Release].wav\n",
      "Ash O'Connor - Vibe [NCS Release].wav\n",
      "Au5 - Closer (feat. Danyka Nadeau) [NCS Release].wav\n",
      "Audioscribe - Free Fall [NCS Release].wav\n",
      "Axollo - Burn It [NCS Release].wav\n",
      "BEAUZ & Momo - Won't Look Back [NCS Release].wav\n",
      "Beave - Talk [NCS Release].wav\n",
      "Cadmium - Click & Scroll (feat. Eli Raain & Veronica Bravo) [NCS Release].wav\n",
      "Carl Zeer & Waterbeld & Fearon - Talk To Me [NCS Release].wav\n",
      "Cartoon - C U Again feat. Mikk Mäe (Cartoon vs Futuristik VIP) [NCS Release].wav\n",
      "Chime - Phototropic [NCS Release].wav\n",
      "Clarx & Harddope - Castle [NCS Release].wav\n",
      "Coopex - Over The Sun [NCS Release].wav\n",
      "DEAF KEV - Invincible [NCS Release].wav\n",
      "Desmeon - On That Day (feat. ElDiablo, Flint & Zadik) [NCS Release].wav\n",
      "Diamond Eyes - Hold On [NCS Release].wav\n",
      "DM Galaxy - Bad Motives (feat. Aloma Steele) [NCS Release].wav\n",
      "Droptek - New Style [NCS Release].wav\n",
      "Egzod & Wasiu - Mutiny [NCS Release - Copyright Free Music].wav\n",
      "Electro Light ft. Kathryn MacLean - The Edge [NCS Release].wav\n",
      "Electronic Vibes - Don't Leave Me (ft. Mime) [NCS Release].wav\n",
      "ElementD & Chris Linton - Ascend [NCS Release].wav\n",
      "Elliot Berger - Hold On (feat. Ranja) [NCS Release].wav\n",
      "Facading - Feelings [NCS Release].wav\n",
      "Far Out - Chains (feat. Alina Renae) [NCS Release].wav\n",
      "Fareoh - Cloud Ten [NCS Release].wav\n",
      "Foria - Break Away [NCS Release].wav\n",
      "Halvorsen - Band-Aid [NCS Release].wav\n",
      "hayve - Half Alive (feat. imallryt) [NCS Release].wav\n",
      "if found - Dead of Night [NCS Release].wav\n",
      "Jim Yosef - Link [NCS Release].wav\n",
      "JJD - Adventure [NCS Release].wav\n",
      "K-391 - Earth [NCS Release].wav\n",
      "Kontinuum - Aware [NCS Release].wav\n",
      "Krakn - Light [NCS Release].wav\n",
      "Last Heroes - Dimensions [NCS Release].wav\n",
      "Lost Sky - Where We Started (feat. Jex) [NCS Release].wav\n",
      "N3WPORT & Meggie York - Runaway [NCS Release]_2.wav\n",
      "Papa Khan - Wounds [NCS10 Release].wav\n",
      "Rival - Falling (with CRVN) [NCS Release].wav\n",
      "Rob Gasser - Ricochet [NCS Release].wav\n"
     ]
    }
   ],
   "source": [
    "# Open a file\n",
    "path = \"./Dataset/\"\n",
    "dirs = os.listdir( path )\n",
    "\n",
    "# This would print all the files and directories\n",
    "for file in dirs:\n",
    "    print(file)"
   ]
  },
  {
   "cell_type": "code",
   "execution_count": 3,
   "metadata": {},
   "outputs": [
    {
     "data": {
      "text/html": [
       "<div>\n",
       "<style scoped>\n",
       "    .dataframe tbody tr th:only-of-type {\n",
       "        vertical-align: middle;\n",
       "    }\n",
       "\n",
       "    .dataframe tbody tr th {\n",
       "        vertical-align: top;\n",
       "    }\n",
       "\n",
       "    .dataframe thead th {\n",
       "        text-align: right;\n",
       "    }\n",
       "</style>\n",
       "<table border=\"1\" class=\"dataframe\">\n",
       "  <thead>\n",
       "    <tr style=\"text-align: right;\">\n",
       "      <th></th>\n",
       "      <th>User_ID</th>\n",
       "      <th>Song_ID</th>\n",
       "      <th>enjoyment</th>\n",
       "      <th>engagement(%)</th>\n",
       "      <th>controversy</th>\n",
       "      <th>popularity score</th>\n",
       "      <th>cluster number</th>\n",
       "    </tr>\n",
       "  </thead>\n",
       "  <tbody>\n",
       "    <tr>\n",
       "      <th>Time</th>\n",
       "      <td>NaN</td>\n",
       "      <td>NaN</td>\n",
       "      <td>NaN</td>\n",
       "      <td>NaN</td>\n",
       "      <td>NaN</td>\n",
       "      <td>NaN</td>\n",
       "      <td>NaN</td>\n",
       "    </tr>\n",
       "  </tbody>\n",
       "</table>\n",
       "</div>"
      ],
      "text/plain": [
       "     User_ID Song_ID enjoyment engagement(%) controversy popularity score  \\\n",
       "Time     NaN     NaN       NaN           NaN         NaN              NaN   \n",
       "\n",
       "     cluster number  \n",
       "Time            NaN  "
      ]
     },
     "execution_count": 3,
     "metadata": {},
     "output_type": "execute_result"
    }
   ],
   "source": [
    "#Creating the database\n",
    "    #(engagement : percentage of the song listened to ,\n",
    "    #enjoyment: number of times the song was listened to by that same user ,\n",
    "    #controversy: number of comments left on that song by that user)\n",
    "DataBase=pd.DataFrame(None, index=['Time'],columns=['User_ID', 'Song_ID','enjoyment','engagement(%)','controversy','popularity score','cluster number'])\n",
    "DataBase"
   ]
  },
  {
   "cell_type": "code",
   "execution_count": 4,
   "metadata": {},
   "outputs": [],
   "source": [
    "#Create list of users\n",
    "D_Users={} #user id->user instance\n",
    "D_Songs={} #song id->song instance"
   ]
  },
  {
   "cell_type": "code",
   "execution_count": 5,
   "metadata": {},
   "outputs": [],
   "source": [
    "#creating a User instance:\n",
    "class User:\n",
    "    def __init__(self,ID):\n",
    "        self.id=ID\n",
    "        self.D_repetitions=dict() #map str(song ID) to number of times listened to\n",
    "    def listento(self,S_ID):\n",
    "        #increments D_repetition value\n",
    "        self.D_repetitions[str(S_ID)]+=1\n",
    "        pass\n",
    "    def rate_enjoyment(self,S_ID):\n",
    "        listento(S_ID)\n",
    "        Sum=0\n",
    "        for repetition in D_repetitions.values():\n",
    "            Sum+=repetition\n",
    "        return D_repetitions[str(S_ID)]/Sum\n",
    "    def rate_engagement(self,S_ID):\n",
    "        rate=int((0.05+random.uniform(0, 0.95))*100)/100\n",
    "        return D_Songs(str(S_ID)).Length*rate\n",
    "    def Comment(self,ID):\n",
    "        D_Songs(str(S_ID)).Comments+1\n",
    "        print( \"user\"+ID+\"commented on song with ID:\"+str(S_ID))"
   ]
  },
  {
   "cell_type": "code",
   "execution_count": 6,
   "metadata": {},
   "outputs": [
    {
     "data": {
      "text/plain": [
       "1000"
      ]
     },
     "execution_count": 6,
     "metadata": {},
     "output_type": "execute_result"
    }
   ],
   "source": [
    "#Creating 1000 users\n",
    "#user increment User_inc (how many new users we want to add when we run this, first run is 1000)\n",
    "User_inc=1000\n",
    "n_User=User_inc+len(D_Users)\n",
    "for i in range(n_User):\n",
    "    U=User(i)\n",
    "    D_Users[str(i)]=U\n",
    "len(D_Users.keys())"
   ]
  },
  {
   "cell_type": "code",
   "execution_count": 7,
   "metadata": {},
   "outputs": [],
   "source": [
    "#Create list of songs"
   ]
  },
  {
   "cell_type": "code",
   "execution_count": 8,
   "metadata": {},
   "outputs": [],
   "source": [
    "#creating a Song instance:\n",
    "#(engagement : percentage of the song listened to ,\n",
    "#enjoyment: number of times the song was listened to by that same user ,\n",
    "#controversy: number of comments left on that song by that user)\n",
    "class Song:\n",
    "    def __init__(self,ID):\n",
    "        song_strs=dirs[ID]\n",
    "        file_path=path+song_strs\n",
    "        self.id=ID\n",
    "        self.song_str=dirs[ID]\n",
    "        self.l=[x.strip() for x in self.song_str.split('-')]\n",
    "        self.artist=[x.strip() for x in self.l[0].split(\"&\")] \n",
    "        self.songName=[x.strip() for x in self.l[1].split(\"[NCS Release]\")][0]\n",
    "        self.Length=librosa.get_duration(filename=file_path)\n",
    "        self.Comments=0"
   ]
  },
  {
   "cell_type": "code",
   "execution_count": 9,
   "metadata": {},
   "outputs": [
    {
     "data": {
      "text/plain": [
       "50"
      ]
     },
     "execution_count": 9,
     "metadata": {},
     "output_type": "execute_result"
    }
   ],
   "source": [
    "#Creating 1000 Songs\n",
    "#user increment User_inc (how many new Songs we want to add when we run this, first run is 1000)\n",
    "Song_inc=50\n",
    "n_Song=Song_inc+len(D_Songs)\n",
    "for i in range(n_Song):\n",
    "    S=Song(i)\n",
    "    D_Songs[str(i)]=S\n",
    "len(D_Songs.keys())"
   ]
  },
  {
   "cell_type": "code",
   "execution_count": null,
   "metadata": {},
   "outputs": [],
   "source": []
  },
  {
   "cell_type": "code",
   "execution_count": null,
   "metadata": {},
   "outputs": [],
   "source": []
  },
  {
   "cell_type": "code",
   "execution_count": null,
   "metadata": {},
   "outputs": [],
   "source": [
    "[]"
   ]
  },
  {
   "cell_type": "code",
   "execution_count": 11,
   "metadata": {},
   "outputs": [
    {
     "data": {
      "text/html": [
       "<div>\n",
       "<style scoped>\n",
       "    .dataframe tbody tr th:only-of-type {\n",
       "        vertical-align: middle;\n",
       "    }\n",
       "\n",
       "    .dataframe tbody tr th {\n",
       "        vertical-align: top;\n",
       "    }\n",
       "\n",
       "    .dataframe thead th {\n",
       "        text-align: right;\n",
       "    }\n",
       "</style>\n",
       "<table border=\"1\" class=\"dataframe\">\n",
       "  <thead>\n",
       "    <tr style=\"text-align: right;\">\n",
       "      <th></th>\n",
       "      <th>User_ID</th>\n",
       "      <th>Song_ID</th>\n",
       "      <th>enjoyment</th>\n",
       "      <th>engagement(%)</th>\n",
       "      <th>controversy</th>\n",
       "      <th>popularity score</th>\n",
       "      <th>cluster number</th>\n",
       "    </tr>\n",
       "  </thead>\n",
       "  <tbody>\n",
       "    <tr>\n",
       "      <th>Time</th>\n",
       "      <td>NaN</td>\n",
       "      <td>NaN</td>\n",
       "      <td>NaN</td>\n",
       "      <td>NaN</td>\n",
       "      <td>NaN</td>\n",
       "      <td>NaN</td>\n",
       "      <td>NaN</td>\n",
       "    </tr>\n",
       "  </tbody>\n",
       "</table>\n",
       "</div>"
      ],
      "text/plain": [
       "     User_ID Song_ID enjoyment engagement(%) controversy popularity score  \\\n",
       "Time     NaN     NaN       NaN           NaN         NaN              NaN   \n",
       "\n",
       "     cluster number  \n",
       "Time            NaN  "
      ]
     },
     "execution_count": 11,
     "metadata": {},
     "output_type": "execute_result"
    }
   ],
   "source": [
    "DataBase.head()"
   ]
  },
  {
   "cell_type": "code",
   "execution_count": 10,
   "metadata": {},
   "outputs": [
    {
     "ename": "NameError",
     "evalue": "name 'song_strs' is not defined",
     "output_type": "error",
     "traceback": [
      "\u001b[1;31m---------------------------------------------------------------------------\u001b[0m",
      "\u001b[1;31mNameError\u001b[0m                                 Traceback (most recent call last)",
      "\u001b[1;32m<ipython-input-10-26c6a21d90a6>\u001b[0m in \u001b[0;36m<module>\u001b[1;34m\u001b[0m\n\u001b[1;32m----> 1\u001b[1;33m \u001b[0mfile_path\u001b[0m\u001b[1;33m=\u001b[0m\u001b[0mpath\u001b[0m\u001b[1;33m+\u001b[0m\u001b[0msong_strs\u001b[0m\u001b[1;33m\u001b[0m\u001b[1;33m\u001b[0m\u001b[0m\n\u001b[0m\u001b[0;32m      2\u001b[0m \u001b[0mlibrosa\u001b[0m\u001b[1;33m.\u001b[0m\u001b[0mget_duration\u001b[0m\u001b[1;33m(\u001b[0m\u001b[0mfilename\u001b[0m\u001b[1;33m=\u001b[0m\u001b[0mfile_path\u001b[0m\u001b[1;33m)\u001b[0m\u001b[1;33m\u001b[0m\u001b[1;33m\u001b[0m\u001b[0m\n",
      "\u001b[1;31mNameError\u001b[0m: name 'song_strs' is not defined"
     ]
    }
   ],
   "source": [
    "file_path=path+song_strs\n",
    "librosa.get_duration(filename=file_path)"
   ]
  },
  {
   "cell_type": "code",
   "execution_count": null,
   "metadata": {},
   "outputs": [],
   "source": [
    "song_strs=dirs[46]\n",
    "L=[x.strip() for x in song_strs.split('-')]\n",
    "L"
   ]
  },
  {
   "cell_type": "code",
   "execution_count": null,
   "metadata": {},
   "outputs": [],
   "source": [
    "L_artists=[x.strip() for x in L[0].split(\"&\")] \n",
    "L_artists"
   ]
  },
  {
   "cell_type": "code",
   "execution_count": null,
   "metadata": {},
   "outputs": [],
   "source": [
    "L_Song_names=[x.strip() for x in L[1].split(\"[NCS Release]\")][0]\n",
    "L_Song_names"
   ]
  },
  {
   "cell_type": "code",
   "execution_count": null,
   "metadata": {},
   "outputs": [],
   "source": []
  },
  {
   "cell_type": "code",
   "execution_count": null,
   "metadata": {},
   "outputs": [],
   "source": []
  },
  {
   "cell_type": "code",
   "execution_count": null,
   "metadata": {},
   "outputs": [],
   "source": []
  }
 ],
 "metadata": {
  "kernelspec": {
   "display_name": "p36workshop",
   "language": "python",
   "name": "p36workshop"
  },
  "language_info": {
   "codemirror_mode": {
    "name": "ipython",
    "version": 3
   },
   "file_extension": ".py",
   "mimetype": "text/x-python",
   "name": "python",
   "nbconvert_exporter": "python",
   "pygments_lexer": "ipython3",
   "version": "3.7.11"
  }
 },
 "nbformat": 4,
 "nbformat_minor": 4
}
