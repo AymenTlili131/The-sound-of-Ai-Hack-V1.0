{
 "cells": [
  {
   "cell_type": "code",
   "execution_count": 1,
   "metadata": {},
   "outputs": [],
   "source": [
    "#!/usr/bin/python\n",
    "import os, sys\n",
    "import pandas as pd\n",
    "import librosa\n",
    "import random\n",
    "from datetime import datetime"
   ]
  },
  {
   "cell_type": "code",
   "execution_count": 2,
   "metadata": {},
   "outputs": [],
   "source": [
    "from collections import defaultdict"
   ]
  },
  {
   "cell_type": "code",
   "execution_count": 3,
   "metadata": {},
   "outputs": [
    {
     "name": "stdout",
     "output_type": "stream",
     "text": [
      "32Stitches - Olympus [NCS Release].wav\n",
      "3rd Prototype & Emdi - House [NCS Release].wav\n",
      "3rd Prototype - I'm Fine [NCS Release].wav\n",
      "Aero Chord & Anuka - Incomplete (Lyric Video) [NCS Release].wav\n",
      "Alex Skrindo & Miza - Thinkin' [NCS Release]_2.wav\n",
      "Alva Gracia - Emotions Like [NCS Release].wav\n",
      "Andromedik - SHE [NCS Release].wav\n",
      "Anna Yvette - Running Out of Time [NCS Release].wav\n",
      "Arcien - Elevate [NCS Release].wav\n",
      "Ascence - Without You [NCS Release].wav\n",
      "Ash O'Connor - Vibe [NCS Release].wav\n",
      "Au5 - Closer (feat. Danyka Nadeau) [NCS Release].wav\n",
      "Audioscribe - Free Fall [NCS Release].wav\n",
      "Axollo - Burn It [NCS Release].wav\n",
      "BEAUZ & Momo - Won't Look Back [NCS Release].wav\n",
      "Beave - Talk [NCS Release].wav\n",
      "Cadmium - Click & Scroll (feat. Eli Raain & Veronica Bravo) [NCS Release].wav\n",
      "Carl Zeer & Waterbeld & Fearon - Talk To Me [NCS Release].wav\n",
      "Cartoon - C U Again feat. Mikk Mäe (Cartoon vs Futuristik VIP) [NCS Release].wav\n",
      "Chime - Phototropic [NCS Release].wav\n",
      "Clarx & Harddope - Castle [NCS Release].wav\n",
      "Coopex - Over The Sun [NCS Release].wav\n",
      "DEAF KEV - Invincible [NCS Release].wav\n",
      "Desmeon - On That Day (feat. ElDiablo, Flint & Zadik) [NCS Release].wav\n",
      "Diamond Eyes - Hold On [NCS Release].wav\n",
      "DM Galaxy - Bad Motives (feat. Aloma Steele) [NCS Release].wav\n",
      "Droptek - New Style [NCS Release].wav\n",
      "Egzod & Wasiu - Mutiny [NCS Release - Copyright Free Music].wav\n",
      "Electro Light ft. Kathryn MacLean - The Edge [NCS Release].wav\n",
      "Electronic Vibes - Don't Leave Me (ft. Mime) [NCS Release].wav\n",
      "ElementD & Chris Linton - Ascend [NCS Release].wav\n",
      "Elliot Berger - Hold On (feat. Ranja) [NCS Release].wav\n",
      "Facading - Feelings [NCS Release].wav\n",
      "Far Out - Chains (feat. Alina Renae) [NCS Release].wav\n",
      "Fareoh - Cloud Ten [NCS Release].wav\n",
      "Foria - Break Away [NCS Release].wav\n",
      "Halvorsen - Band-Aid [NCS Release].wav\n",
      "hayve - Half Alive (feat. imallryt) [NCS Release].wav\n",
      "if found - Dead of Night [NCS Release].wav\n",
      "Jim Yosef - Link [NCS Release].wav\n",
      "JJD - Adventure [NCS Release].wav\n",
      "K-391 - Earth [NCS Release].wav\n",
      "Kontinuum - Aware [NCS Release].wav\n",
      "Krakn - Light [NCS Release].wav\n",
      "Last Heroes - Dimensions [NCS Release].wav\n",
      "Lost Sky - Where We Started (feat. Jex) [NCS Release].wav\n",
      "N3WPORT & Meggie York - Runaway [NCS Release]_2.wav\n",
      "Papa Khan - Wounds [NCS10 Release].wav\n",
      "Rival - Falling (with CRVN) [NCS Release].wav\n",
      "Rob Gasser - Ricochet [NCS Release].wav\n"
     ]
    }
   ],
   "source": [
    "# Open a file\n",
    "path = \"./Dataset/\"\n",
    "dirs = os.listdir( path )\n",
    "\n",
    "# This would print all the files and directories\n",
    "for file in dirs:\n",
    "    print(file)"
   ]
  },
  {
   "cell_type": "code",
   "execution_count": 4,
   "metadata": {},
   "outputs": [
    {
     "data": {
      "text/html": [
       "<div>\n",
       "<style scoped>\n",
       "    .dataframe tbody tr th:only-of-type {\n",
       "        vertical-align: middle;\n",
       "    }\n",
       "\n",
       "    .dataframe tbody tr th {\n",
       "        vertical-align: top;\n",
       "    }\n",
       "\n",
       "    .dataframe thead th {\n",
       "        text-align: right;\n",
       "    }\n",
       "</style>\n",
       "<table border=\"1\" class=\"dataframe\">\n",
       "  <thead>\n",
       "    <tr style=\"text-align: right;\">\n",
       "      <th></th>\n",
       "      <th>User_ID</th>\n",
       "      <th>Song_ID</th>\n",
       "      <th>enjoyment</th>\n",
       "      <th>engagement(%)</th>\n",
       "      <th>controversy</th>\n",
       "      <th>popularity score</th>\n",
       "      <th>cluster number</th>\n",
       "    </tr>\n",
       "  </thead>\n",
       "  <tbody>\n",
       "    <tr>\n",
       "      <th>Time</th>\n",
       "      <td>NaN</td>\n",
       "      <td>NaN</td>\n",
       "      <td>NaN</td>\n",
       "      <td>NaN</td>\n",
       "      <td>NaN</td>\n",
       "      <td>NaN</td>\n",
       "      <td>NaN</td>\n",
       "    </tr>\n",
       "  </tbody>\n",
       "</table>\n",
       "</div>"
      ],
      "text/plain": [
       "     User_ID Song_ID enjoyment engagement(%) controversy popularity score  \\\n",
       "Time     NaN     NaN       NaN           NaN         NaN              NaN   \n",
       "\n",
       "     cluster number  \n",
       "Time            NaN  "
      ]
     },
     "execution_count": 4,
     "metadata": {},
     "output_type": "execute_result"
    }
   ],
   "source": [
    "#Creating the database\n",
    "    #(engagement : percentage of the song listened to ,\n",
    "    #enjoyment: number of times the song was listened to by that same user ,\n",
    "    #controversy: number of comments left on that song by that user)\n",
    "DataBase=pd.DataFrame(None, index=['Time'],columns=['User_ID', 'Song_ID','enjoyment','engagement(%)','controversy','popularity score','cluster number'])\n",
    "DataBase"
   ]
  },
  {
   "cell_type": "code",
   "execution_count": 5,
   "metadata": {},
   "outputs": [],
   "source": [
    "#Create list of users\n",
    "D_Users={} #user id->user instance\n",
    "D_Songs={} #song id->song instance"
   ]
  },
  {
   "cell_type": "code",
   "execution_count": 6,
   "metadata": {},
   "outputs": [],
   "source": [
    "#creating a User instance:\n",
    "class User:\n",
    "    def __init__(self,ID):\n",
    "        self.id=ID\n",
    "        self.D_repetitions=defaultdict(lambda: 0) #map str(song ID) to number of times listened to\n",
    "    def listento(self,S_ID):\n",
    "        #increments D_repetition value\n",
    "        self.D_repetitions[str(S_ID)]+=1\n",
    "    def rate_enjoyment(self,S_ID):\n",
    "        self.listento(S_ID)\n",
    "        Sum=0\n",
    "        for repetition in self.D_repetitions.values():\n",
    "            Sum+=repetition\n",
    "        return self.D_repetitions[str(S_ID)]/Sum\n",
    "    def rate_engagement(self,S_ID):\n",
    "        rate=int((0.05+random.uniform(0, 0.95))*100)/100\n",
    "        return rate\n",
    "    def Comment(self,S_ID):\n",
    "        D_Songs[str(S_ID)].Comments+1\n",
    "        print( \"user\"+str(self.id)+\"commented on song with ID:\"+str(S_ID))"
   ]
  },
  {
   "cell_type": "code",
   "execution_count": 7,
   "metadata": {},
   "outputs": [
    {
     "data": {
      "text/plain": [
       "1000"
      ]
     },
     "execution_count": 7,
     "metadata": {},
     "output_type": "execute_result"
    }
   ],
   "source": [
    "#Creating 1000 users\n",
    "#user increment User_inc (how many new users we want to add when we run this, first run is 1000)\n",
    "User_inc=1000\n",
    "n_User=User_inc+len(D_Users)\n",
    "for i in range(n_User):\n",
    "    U=User(i)\n",
    "    D_Users[str(i)]=U\n",
    "len(D_Users.keys())"
   ]
  },
  {
   "cell_type": "code",
   "execution_count": 8,
   "metadata": {},
   "outputs": [],
   "source": [
    "#Create list of songs"
   ]
  },
  {
   "cell_type": "code",
   "execution_count": 9,
   "metadata": {},
   "outputs": [],
   "source": [
    "#creating a Song instance:\n",
    "#(engagement : percentage of the song listened to ,\n",
    "#enjoyment: number of times the song was listened to by that same user ,\n",
    "#controversy: number of comments left on that song by that user)\n",
    "class Song:\n",
    "    def __init__(self,ID):\n",
    "        song_strs=dirs[ID]\n",
    "        file_path=path+song_strs\n",
    "        self.id=ID\n",
    "        self.song_str=dirs[ID]\n",
    "        self.l=[x.strip() for x in self.song_str.split('-')]\n",
    "        self.artist=[x.strip() for x in self.l[0].split(\"&\")] \n",
    "        self.songName=[x.strip() for x in self.l[1].split(\"[NCS Release]\")][0]\n",
    "        self.Length=librosa.get_duration(filename=file_path)\n",
    "        self.Comments=0"
   ]
  },
  {
   "cell_type": "code",
   "execution_count": 10,
   "metadata": {},
   "outputs": [
    {
     "data": {
      "text/plain": [
       "50"
      ]
     },
     "execution_count": 10,
     "metadata": {},
     "output_type": "execute_result"
    }
   ],
   "source": [
    "#Creating 1000 Songs\n",
    "#user increment User_inc (how many new Songs we want to add when we run this, first run is 1000)\n",
    "Song_inc=50\n",
    "n_Song=Song_inc+len(D_Songs)\n",
    "for i in range(n_Song):\n",
    "    S=Song(i)\n",
    "    D_Songs[str(i)]=S\n",
    "len(D_Songs.keys())"
   ]
  },
  {
   "cell_type": "code",
   "execution_count": 11,
   "metadata": {},
   "outputs": [
    {
     "name": "stdout",
     "output_type": "stream",
     "text": [
      "Current Time = 20:58:24\n"
     ]
    }
   ],
   "source": [
    "now = datetime.now()\n",
    "\n",
    "current_time = now.strftime(\"%H:%M:%S\")\n",
    "print(\"Current Time =\", current_time)"
   ]
  },
  {
   "cell_type": "code",
   "execution_count": 12,
   "metadata": {},
   "outputs": [],
   "source": [
    "#(engagement X0.25+enjoyment X0.6+controversy X0.15) \n",
    "#enjoyment   0<  TO DO to improve: uniform  distribution\n",
    "#engagement(%) 0< <1\n",
    "#controversy 0< TO DO to improve:normal distribution\n",
    "def popularity_score(U_id,S_id):\n",
    "    S=  D_Users[str(U_id)].rate_enjoyment(D_Songs[str(S_id)].id)*6+D_Users[str(U_id)].rate_engagement(D_Songs[str(S_id)].id)*0.25+D_Songs[str(S_id)].Comments*0.15\n",
    "    return S"
   ]
  },
  {
   "cell_type": "code",
   "execution_count": 13,
   "metadata": {},
   "outputs": [],
   "source": [
    "attempt=[current_time,\n",
    " D_Users['0'].id,\n",
    " D_Songs['0'].id,\n",
    " D_Users['0'].rate_enjoyment(D_Songs['0'].id),\n",
    " D_Users['0'].rate_engagement(D_Songs['0'].id),\n",
    " D_Songs['0'].Comments,\n",
    " popularity_score(0,0),\n",
    "         None\n",
    "]"
   ]
  },
  {
   "cell_type": "code",
   "execution_count": 14,
   "metadata": {},
   "outputs": [
    {
     "data": {
      "text/plain": [
       "['20:58:24', 0, 0, 1.0, 0.98, 0, 6.0275, None]"
      ]
     },
     "execution_count": 14,
     "metadata": {},
     "output_type": "execute_result"
    }
   ],
   "source": [
    "attempt #user 0 listened to song 0 and we had the following values"
   ]
  },
  {
   "cell_type": "markdown",
   "metadata": {},
   "source": [
    "<li>save the list of users \n",
    "<li>save the list of songs\n",
    "<li>save user x song experience\n",
    "\n",
    "\n",
    "\n",
    "\n"
   ]
  },
  {
   "cell_type": "code",
   "execution_count": 15,
   "metadata": {},
   "outputs": [],
   "source": [
    "#DataBase.loc[len(DataBase)] = attempt[1:] testing on one adds attemps to database "
   ]
  },
  {
   "cell_type": "markdown",
   "metadata": {},
   "source": [
    "1000 users<br>\n",
    "50 songs <br>\n",
    "let's make  135000 observations (on average each user listened to 13.5 songs)"
   ]
  },
  {
   "cell_type": "code",
   "execution_count": null,
   "metadata": {},
   "outputs": [],
   "source": []
  },
  {
   "cell_type": "code",
   "execution_count": 16,
   "metadata": {},
   "outputs": [
    {
     "name": "stdout",
     "output_type": "stream",
     "text": [
      "user165commented on song with ID:8\n",
      "user782commented on song with ID:3\n",
      "user236commented on song with ID:18\n",
      "user156commented on song with ID:23\n",
      "user784commented on song with ID:17\n",
      "user931commented on song with ID:20\n",
      "user782commented on song with ID:8\n",
      "user461commented on song with ID:24\n",
      "user546commented on song with ID:12\n",
      "user81commented on song with ID:42\n",
      "user577commented on song with ID:4\n",
      "user731commented on song with ID:48\n",
      "user390commented on song with ID:19\n",
      "user270commented on song with ID:1\n",
      "user744commented on song with ID:29\n",
      "user680commented on song with ID:6\n",
      "user92commented on song with ID:28\n",
      "user611commented on song with ID:44\n",
      "user233commented on song with ID:44\n",
      "user759commented on song with ID:39\n",
      "user414commented on song with ID:16\n",
      "user620commented on song with ID:24\n",
      "user178commented on song with ID:33\n",
      "user653commented on song with ID:33\n",
      "user812commented on song with ID:48\n",
      "user348commented on song with ID:39\n",
      "user15commented on song with ID:28\n",
      "user842commented on song with ID:16\n",
      "user142commented on song with ID:2\n",
      "user425commented on song with ID:9\n",
      "user223commented on song with ID:23\n",
      "user473commented on song with ID:34\n",
      "user258commented on song with ID:2\n",
      "user47commented on song with ID:47\n",
      "user900commented on song with ID:23\n",
      "user252commented on song with ID:40\n",
      "user328commented on song with ID:32\n",
      "user264commented on song with ID:12\n",
      "user514commented on song with ID:8\n",
      "user334commented on song with ID:27\n",
      "user495commented on song with ID:17\n",
      "user670commented on song with ID:47\n",
      "user125commented on song with ID:7\n",
      "user80commented on song with ID:13\n",
      "user272commented on song with ID:22\n",
      "user407commented on song with ID:47\n",
      "user540commented on song with ID:9\n",
      "user729commented on song with ID:19\n",
      "user761commented on song with ID:34\n",
      "user576commented on song with ID:21\n",
      "user676commented on song with ID:17\n",
      "user981commented on song with ID:3\n",
      "user340commented on song with ID:19\n",
      "user818commented on song with ID:43\n",
      "user471commented on song with ID:7\n",
      "user624commented on song with ID:24\n",
      "user421commented on song with ID:22\n",
      "user865commented on song with ID:34\n",
      "user497commented on song with ID:27\n",
      "user251commented on song with ID:21\n",
      "user918commented on song with ID:2\n",
      "user266commented on song with ID:48\n",
      "user522commented on song with ID:2\n",
      "user903commented on song with ID:43\n",
      "user215commented on song with ID:4\n",
      "user431commented on song with ID:11\n",
      "user953commented on song with ID:22\n",
      "user136commented on song with ID:21\n",
      "user738commented on song with ID:46\n",
      "user397commented on song with ID:48\n",
      "user330commented on song with ID:24\n",
      "user987commented on song with ID:10\n",
      "user446commented on song with ID:16\n",
      "user778commented on song with ID:10\n",
      "user452commented on song with ID:37\n",
      "user628commented on song with ID:45\n",
      "user795commented on song with ID:41\n",
      "user884commented on song with ID:18\n",
      "user353commented on song with ID:37\n",
      "user396commented on song with ID:22\n",
      "user70commented on song with ID:4\n",
      "user506commented on song with ID:29\n",
      "user799commented on song with ID:40\n",
      "user931commented on song with ID:34\n",
      "user267commented on song with ID:2\n",
      "user997commented on song with ID:7\n",
      "user648commented on song with ID:46\n",
      "user190commented on song with ID:34\n",
      "user119commented on song with ID:11\n",
      "user456commented on song with ID:0\n",
      "user222commented on song with ID:15\n",
      "user173commented on song with ID:28\n",
      "user982commented on song with ID:35\n",
      "user286commented on song with ID:36\n",
      "user573commented on song with ID:26\n",
      "user974commented on song with ID:34\n",
      "user207commented on song with ID:6\n",
      "user249commented on song with ID:34\n",
      "user629commented on song with ID:22\n",
      "user966commented on song with ID:49\n",
      "user839commented on song with ID:34\n",
      "user466commented on song with ID:4\n",
      "user537commented on song with ID:42\n",
      "user7commented on song with ID:38\n",
      "user76commented on song with ID:41\n",
      "user824commented on song with ID:16\n",
      "user462commented on song with ID:47\n",
      "user976commented on song with ID:29\n",
      "user273commented on song with ID:5\n",
      "user207commented on song with ID:23\n",
      "user90commented on song with ID:14\n",
      "user62commented on song with ID:35\n",
      "user686commented on song with ID:18\n",
      "user480commented on song with ID:40\n",
      "user667commented on song with ID:45\n",
      "user442commented on song with ID:11\n",
      "user479commented on song with ID:6\n",
      "user468commented on song with ID:17\n",
      "user985commented on song with ID:21\n",
      "user660commented on song with ID:43\n",
      "user457commented on song with ID:5\n",
      "user965commented on song with ID:43\n",
      "user129commented on song with ID:23\n",
      "user53commented on song with ID:8\n",
      "user651commented on song with ID:7\n",
      "user10commented on song with ID:15\n",
      "user4commented on song with ID:31\n",
      "user678commented on song with ID:38\n",
      "user343commented on song with ID:17\n",
      "user929commented on song with ID:36\n",
      "user315commented on song with ID:33\n",
      "user624commented on song with ID:15\n",
      "user369commented on song with ID:13\n",
      "user656commented on song with ID:39\n",
      "user322commented on song with ID:6\n"
     ]
    }
   ],
   "source": [
    "for observation in range (13500):\n",
    "    user_id=int(random.uniform(0, 1000))\n",
    "    song_id=int(random.uniform(0, 50))\n",
    "    comment_appearance =random.uniform(10, 100)\n",
    "    if observation/100<comment_appearance :\n",
    "        D_Users[str(user_id)].Comment(song_id)\n",
    "    attempt=[current_time,\n",
    "     D_Users[str(user_id)].id,\n",
    "     D_Songs[str(song_id)].id,\n",
    "     D_Users[str(user_id)].rate_enjoyment(D_Songs[str(song_id)].id),\n",
    "     D_Users[str(user_id)].rate_engagement(D_Songs[str(song_id)].id),\n",
    "     D_Songs[str(song_id)].Comments,\n",
    "     popularity_score(0,0),\n",
    "             None\n",
    "    ]\n",
    "    DataBase.loc[len(DataBase)] = attempt[1:]"
   ]
  },
  {
   "cell_type": "code",
   "execution_count": 20,
   "metadata": {},
   "outputs": [
    {
     "data": {
      "text/html": [
       "<div>\n",
       "<style scoped>\n",
       "    .dataframe tbody tr th:only-of-type {\n",
       "        vertical-align: middle;\n",
       "    }\n",
       "\n",
       "    .dataframe tbody tr th {\n",
       "        vertical-align: top;\n",
       "    }\n",
       "\n",
       "    .dataframe thead th {\n",
       "        text-align: right;\n",
       "    }\n",
       "</style>\n",
       "<table border=\"1\" class=\"dataframe\">\n",
       "  <thead>\n",
       "    <tr style=\"text-align: right;\">\n",
       "      <th></th>\n",
       "      <th>User_ID</th>\n",
       "      <th>Song_ID</th>\n",
       "      <th>enjoyment</th>\n",
       "      <th>engagement(%)</th>\n",
       "      <th>controversy</th>\n",
       "      <th>popularity score</th>\n",
       "      <th>cluster number</th>\n",
       "    </tr>\n",
       "  </thead>\n",
       "  <tbody>\n",
       "    <tr>\n",
       "      <th>count</th>\n",
       "      <td>135.000000</td>\n",
       "      <td>135.000000</td>\n",
       "      <td>135.000000</td>\n",
       "      <td>135.000000</td>\n",
       "      <td>135.0</td>\n",
       "      <td>135.000000</td>\n",
       "      <td>0.0</td>\n",
       "    </tr>\n",
       "    <tr>\n",
       "      <th>mean</th>\n",
       "      <td>493.444444</td>\n",
       "      <td>24.022222</td>\n",
       "      <td>0.985185</td>\n",
       "      <td>0.484593</td>\n",
       "      <td>0.0</td>\n",
       "      <td>6.127352</td>\n",
       "      <td>NaN</td>\n",
       "    </tr>\n",
       "    <tr>\n",
       "      <th>std</th>\n",
       "      <td>283.215062</td>\n",
       "      <td>14.340459</td>\n",
       "      <td>0.085097</td>\n",
       "      <td>0.289502</td>\n",
       "      <td>0.0</td>\n",
       "      <td>0.070354</td>\n",
       "      <td>NaN</td>\n",
       "    </tr>\n",
       "    <tr>\n",
       "      <th>min</th>\n",
       "      <td>4.000000</td>\n",
       "      <td>0.000000</td>\n",
       "      <td>0.500000</td>\n",
       "      <td>0.050000</td>\n",
       "      <td>0.0</td>\n",
       "      <td>6.012500</td>\n",
       "      <td>NaN</td>\n",
       "    </tr>\n",
       "    <tr>\n",
       "      <th>25%</th>\n",
       "      <td>261.000000</td>\n",
       "      <td>11.500000</td>\n",
       "      <td>1.000000</td>\n",
       "      <td>0.195000</td>\n",
       "      <td>0.0</td>\n",
       "      <td>6.065000</td>\n",
       "      <td>NaN</td>\n",
       "    </tr>\n",
       "    <tr>\n",
       "      <th>50%</th>\n",
       "      <td>468.000000</td>\n",
       "      <td>23.000000</td>\n",
       "      <td>1.000000</td>\n",
       "      <td>0.500000</td>\n",
       "      <td>0.0</td>\n",
       "      <td>6.132500</td>\n",
       "      <td>NaN</td>\n",
       "    </tr>\n",
       "    <tr>\n",
       "      <th>75%</th>\n",
       "      <td>730.000000</td>\n",
       "      <td>36.000000</td>\n",
       "      <td>1.000000</td>\n",
       "      <td>0.755000</td>\n",
       "      <td>0.0</td>\n",
       "      <td>6.190000</td>\n",
       "      <td>NaN</td>\n",
       "    </tr>\n",
       "    <tr>\n",
       "      <th>max</th>\n",
       "      <td>997.000000</td>\n",
       "      <td>49.000000</td>\n",
       "      <td>1.000000</td>\n",
       "      <td>0.990000</td>\n",
       "      <td>0.0</td>\n",
       "      <td>6.247500</td>\n",
       "      <td>NaN</td>\n",
       "    </tr>\n",
       "  </tbody>\n",
       "</table>\n",
       "</div>"
      ],
      "text/plain": [
       "          User_ID     Song_ID   enjoyment  engagement(%)  controversy  \\\n",
       "count  135.000000  135.000000  135.000000     135.000000        135.0   \n",
       "mean   493.444444   24.022222    0.985185       0.484593          0.0   \n",
       "std    283.215062   14.340459    0.085097       0.289502          0.0   \n",
       "min      4.000000    0.000000    0.500000       0.050000          0.0   \n",
       "25%    261.000000   11.500000    1.000000       0.195000          0.0   \n",
       "50%    468.000000   23.000000    1.000000       0.500000          0.0   \n",
       "75%    730.000000   36.000000    1.000000       0.755000          0.0   \n",
       "max    997.000000   49.000000    1.000000       0.990000          0.0   \n",
       "\n",
       "       popularity score  cluster number  \n",
       "count        135.000000             0.0  \n",
       "mean           6.127352             NaN  \n",
       "std            0.070354             NaN  \n",
       "min            6.012500             NaN  \n",
       "25%            6.065000             NaN  \n",
       "50%            6.132500             NaN  \n",
       "75%            6.190000             NaN  \n",
       "max            6.247500             NaN  "
      ]
     },
     "execution_count": 20,
     "metadata": {},
     "output_type": "execute_result"
    }
   ],
   "source": [
    "DataBase.describe()"
   ]
  },
  {
   "cell_type": "code",
   "execution_count": 18,
   "metadata": {},
   "outputs": [
    {
     "data": {
      "text/html": [
       "<div>\n",
       "<style scoped>\n",
       "    .dataframe tbody tr th:only-of-type {\n",
       "        vertical-align: middle;\n",
       "    }\n",
       "\n",
       "    .dataframe tbody tr th {\n",
       "        vertical-align: top;\n",
       "    }\n",
       "\n",
       "    .dataframe thead th {\n",
       "        text-align: right;\n",
       "    }\n",
       "</style>\n",
       "<table border=\"1\" class=\"dataframe\">\n",
       "  <thead>\n",
       "    <tr style=\"text-align: right;\">\n",
       "      <th></th>\n",
       "      <th>User_ID</th>\n",
       "      <th>Song_ID</th>\n",
       "      <th>enjoyment</th>\n",
       "      <th>engagement(%)</th>\n",
       "      <th>controversy</th>\n",
       "      <th>popularity score</th>\n",
       "      <th>cluster number</th>\n",
       "    </tr>\n",
       "  </thead>\n",
       "  <tbody>\n",
       "    <tr>\n",
       "      <th>131</th>\n",
       "      <td>315.0</td>\n",
       "      <td>33.0</td>\n",
       "      <td>1.0</td>\n",
       "      <td>0.10</td>\n",
       "      <td>0.0</td>\n",
       "      <td>6.0200</td>\n",
       "      <td>NaN</td>\n",
       "    </tr>\n",
       "    <tr>\n",
       "      <th>132</th>\n",
       "      <td>624.0</td>\n",
       "      <td>15.0</td>\n",
       "      <td>0.5</td>\n",
       "      <td>0.53</td>\n",
       "      <td>0.0</td>\n",
       "      <td>6.0275</td>\n",
       "      <td>NaN</td>\n",
       "    </tr>\n",
       "    <tr>\n",
       "      <th>133</th>\n",
       "      <td>369.0</td>\n",
       "      <td>13.0</td>\n",
       "      <td>1.0</td>\n",
       "      <td>0.69</td>\n",
       "      <td>0.0</td>\n",
       "      <td>6.2375</td>\n",
       "      <td>NaN</td>\n",
       "    </tr>\n",
       "    <tr>\n",
       "      <th>134</th>\n",
       "      <td>656.0</td>\n",
       "      <td>39.0</td>\n",
       "      <td>1.0</td>\n",
       "      <td>0.26</td>\n",
       "      <td>0.0</td>\n",
       "      <td>6.1900</td>\n",
       "      <td>NaN</td>\n",
       "    </tr>\n",
       "    <tr>\n",
       "      <th>135</th>\n",
       "      <td>322.0</td>\n",
       "      <td>6.0</td>\n",
       "      <td>1.0</td>\n",
       "      <td>0.11</td>\n",
       "      <td>0.0</td>\n",
       "      <td>6.0700</td>\n",
       "      <td>NaN</td>\n",
       "    </tr>\n",
       "  </tbody>\n",
       "</table>\n",
       "</div>"
      ],
      "text/plain": [
       "     User_ID  Song_ID  enjoyment  engagement(%)  controversy  \\\n",
       "131    315.0     33.0        1.0           0.10          0.0   \n",
       "132    624.0     15.0        0.5           0.53          0.0   \n",
       "133    369.0     13.0        1.0           0.69          0.0   \n",
       "134    656.0     39.0        1.0           0.26          0.0   \n",
       "135    322.0      6.0        1.0           0.11          0.0   \n",
       "\n",
       "     popularity score  cluster number  \n",
       "131            6.0200             NaN  \n",
       "132            6.0275             NaN  \n",
       "133            6.2375             NaN  \n",
       "134            6.1900             NaN  \n",
       "135            6.0700             NaN  "
      ]
     },
     "execution_count": 18,
     "metadata": {},
     "output_type": "execute_result"
    }
   ],
   "source": [
    "DataBase.tail()"
   ]
  },
  {
   "cell_type": "code",
   "execution_count": 19,
   "metadata": {},
   "outputs": [
    {
     "ename": "NameError",
     "evalue": "name 'song_strs' is not defined",
     "output_type": "error",
     "traceback": [
      "\u001b[1;31m---------------------------------------------------------------------------\u001b[0m",
      "\u001b[1;31mNameError\u001b[0m                                 Traceback (most recent call last)",
      "\u001b[1;32m<ipython-input-19-26c6a21d90a6>\u001b[0m in \u001b[0;36m<module>\u001b[1;34m\u001b[0m\n\u001b[1;32m----> 1\u001b[1;33m \u001b[0mfile_path\u001b[0m\u001b[1;33m=\u001b[0m\u001b[0mpath\u001b[0m\u001b[1;33m+\u001b[0m\u001b[0msong_strs\u001b[0m\u001b[1;33m\u001b[0m\u001b[1;33m\u001b[0m\u001b[0m\n\u001b[0m\u001b[0;32m      2\u001b[0m \u001b[0mlibrosa\u001b[0m\u001b[1;33m.\u001b[0m\u001b[0mget_duration\u001b[0m\u001b[1;33m(\u001b[0m\u001b[0mfilename\u001b[0m\u001b[1;33m=\u001b[0m\u001b[0mfile_path\u001b[0m\u001b[1;33m)\u001b[0m\u001b[1;33m\u001b[0m\u001b[1;33m\u001b[0m\u001b[0m\n",
      "\u001b[1;31mNameError\u001b[0m: name 'song_strs' is not defined"
     ]
    }
   ],
   "source": [
    "file_path=path+song_strs\n",
    "librosa.get_duration(filename=file_path)"
   ]
  },
  {
   "cell_type": "code",
   "execution_count": null,
   "metadata": {},
   "outputs": [],
   "source": [
    "song_strs=dirs[46]\n",
    "L=[x.strip() for x in song_strs.split('-')]\n",
    "L"
   ]
  },
  {
   "cell_type": "code",
   "execution_count": null,
   "metadata": {},
   "outputs": [],
   "source": [
    "L_artists=[x.strip() for x in L[0].split(\"&\")] \n",
    "L_artists"
   ]
  },
  {
   "cell_type": "code",
   "execution_count": null,
   "metadata": {},
   "outputs": [],
   "source": [
    "L_Song_names=[x.strip() for x in L[1].split(\"[NCS Release]\")][0]\n",
    "L_Song_names"
   ]
  },
  {
   "cell_type": "code",
   "execution_count": null,
   "metadata": {},
   "outputs": [],
   "source": []
  },
  {
   "cell_type": "code",
   "execution_count": null,
   "metadata": {},
   "outputs": [],
   "source": []
  },
  {
   "cell_type": "code",
   "execution_count": null,
   "metadata": {},
   "outputs": [],
   "source": []
  }
 ],
 "metadata": {
  "kernelspec": {
   "display_name": "p36workshop",
   "language": "python",
   "name": "p36workshop"
  },
  "language_info": {
   "codemirror_mode": {
    "name": "ipython",
    "version": 3
   },
   "file_extension": ".py",
   "mimetype": "text/x-python",
   "name": "python",
   "nbconvert_exporter": "python",
   "pygments_lexer": "ipython3",
   "version": "3.7.11"
  }
 },
 "nbformat": 4,
 "nbformat_minor": 4
}
